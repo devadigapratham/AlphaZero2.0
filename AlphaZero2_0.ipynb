{
  "nbformat": 4,
  "nbformat_minor": 0,
  "metadata": {
    "colab": {
      "provenance": []
    },
    "kernelspec": {
      "name": "python3",
      "display_name": "Python 3"
    },
    "language_info": {
      "name": "python"
    }
  },
  "cells": [
    {
      "cell_type": "code",
      "execution_count": 1,
      "metadata": {
        "colab": {
          "base_uri": "https://localhost:8080/",
          "height": 35
        },
        "id": "2geRXAeZlfys",
        "outputId": "76dab3b9-718a-4b47-84f4-c116d63a7ff8"
      },
      "outputs": [
        {
          "output_type": "execute_result",
          "data": {
            "text/plain": [
              "'1.23.5'"
            ],
            "application/vnd.google.colaboratory.intrinsic+json": {
              "type": "string"
            }
          },
          "metadata": {},
          "execution_count": 1
        }
      ],
      "source": [
        "import numpy as np\n",
        "np.__version__"
      ]
    },
    {
      "cell_type": "code",
      "source": [
        "class TicTacToe:\n",
        "  def __init__(self):\n",
        "    self.row_count = 3\n",
        "    self.col_count = 3\n",
        "    self.action_size = self.row_count * self.col_count\n",
        "\n",
        "  def get_initial_state(self):\n",
        "    return np.zeros((self.row_count, self.col_count))\n",
        "\n",
        "  def get_next_state(self, state, action, player):\n",
        "    row = action // self.col_count\n",
        "    column = action % self.col_count\n",
        "    state[row, column] = player\n",
        "    return state\n",
        "\n",
        "  def get_valid_moves(self, state):\n",
        "    return (state.reshape(-1) == 0).astype(np.uint8)\n",
        "\n",
        "  def check_win(self, state, action):\n",
        "    row = action // self.col_count\n",
        "    column = action % self.col_count\n",
        "    player = state[row, column]\n",
        "    return (\n",
        "        np.sum(state[row, :]) == player * self.col_count\n",
        "        or np.sum(state[: , column]) == player * self.row_count\n",
        "        or np.sum(np.diag(state)) == player * self.row_count\n",
        "        or np.sum(np.diag(np.flip(state, axis = 0))) == player * self.row_count\n",
        "    )\n",
        "\n",
        "  def get_value_and_terminated(self, state, action):\n",
        "    if self.check_win(state, action) :\n",
        "      return 1, True\n",
        "    if np.sum(self.get_valid_moves(state)) == 0:\n",
        "      return 0, True\n",
        "    return 0, False\n",
        "\n",
        "  def get_opponent(self, player):\n",
        "    return -player\n"
      ],
      "metadata": {
        "id": "B4Z0CwyllmVm"
      },
      "execution_count": 2,
      "outputs": []
    },
    {
      "cell_type": "code",
      "source": [
        "tictactoe = TicTacToe()"
      ],
      "metadata": {
        "id": "ntzThsRMpetk"
      },
      "execution_count": 3,
      "outputs": []
    },
    {
      "cell_type": "code",
      "source": [
        "player = 1\n",
        "state = tictactoe.get_initial_state()\n",
        "\n",
        "while True:\n",
        "  print(state)\n",
        "\n",
        "  valid_moves = tictactoe.get_valid_moves(state)\n",
        "  print(\"Valid moves : \", [i for i in range(tictactoe.action_size) if valid_moves[i] == 1])\n",
        "  action = int(input(f\"{player} : \"))\n",
        "\n",
        "  if valid_moves[action] == 0:\n",
        "    print(\"action not valid\")\n",
        "    continue\n",
        "\n",
        "  state = tictactoe.get_next_state(state, action, player)\n",
        "\n",
        "  value, is_terminal = tictactoe.get_value_and_terminated(state, action)\n",
        "\n",
        "  if is_terminal:\n",
        "    print(state)\n",
        "    if value == 1:\n",
        "      print(player, \"won\")\n",
        "    else:\n",
        "      print(\"draw\")\n",
        "    break\n",
        "  player = tictactoe.get_opponent(player)\n",
        "\n"
      ],
      "metadata": {
        "colab": {
          "base_uri": "https://localhost:8080/"
        },
        "id": "CfRO3S5bpiTN",
        "outputId": "161a8914-25ec-4758-d22b-05773aa45fb9"
      },
      "execution_count": 4,
      "outputs": [
        {
          "output_type": "stream",
          "name": "stdout",
          "text": [
            "[[0. 0. 0.]\n",
            " [0. 0. 0.]\n",
            " [0. 0. 0.]]\n",
            "Valid moves :  [0, 1, 2, 3, 4, 5, 6, 7, 8]\n",
            "1 : 0\n",
            "[[1. 0. 0.]\n",
            " [0. 0. 0.]\n",
            " [0. 0. 0.]]\n",
            "Valid moves :  [1, 2, 3, 4, 5, 6, 7, 8]\n",
            "-1 : 4\n",
            "[[ 1.  0.  0.]\n",
            " [ 0. -1.  0.]\n",
            " [ 0.  0.  0.]]\n",
            "Valid moves :  [1, 2, 3, 5, 6, 7, 8]\n",
            "1 : 1\n",
            "[[ 1.  1.  0.]\n",
            " [ 0. -1.  0.]\n",
            " [ 0.  0.  0.]]\n",
            "Valid moves :  [2, 3, 5, 6, 7, 8]\n",
            "-1 : 2\n",
            "[[ 1.  1. -1.]\n",
            " [ 0. -1.  0.]\n",
            " [ 0.  0.  0.]]\n",
            "Valid moves :  [3, 5, 6, 7, 8]\n",
            "1 : 7\n",
            "[[ 1.  1. -1.]\n",
            " [ 0. -1.  0.]\n",
            " [ 0.  1.  0.]]\n",
            "Valid moves :  [3, 5, 6, 8]\n",
            "-1 : 7\n",
            "action not valid\n",
            "[[ 1.  1. -1.]\n",
            " [ 0. -1.  0.]\n",
            " [ 0.  1.  0.]]\n",
            "Valid moves :  [3, 5, 6, 8]\n",
            "-1 : 6\n",
            "[[ 1.  1. -1.]\n",
            " [ 0. -1.  0.]\n",
            " [-1.  1.  0.]]\n",
            "-1 won\n"
          ]
        }
      ]
    },
    {
      "cell_type": "code",
      "source": [],
      "metadata": {
        "id": "dlFWivZYqhxz"
      },
      "execution_count": null,
      "outputs": []
    }
  ]
}